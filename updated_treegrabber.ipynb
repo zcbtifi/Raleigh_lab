{
 "cells": [
  {
   "cell_type": "code",
   "execution_count": 40,
   "id": "d73676e9",
   "metadata": {},
   "outputs": [
    {
     "data": {
      "text/plain": [
       "'/Users/ivan/Documents/Raleigh_lab/dnds'"
      ]
     },
     "execution_count": 40,
     "metadata": {},
     "output_type": "execute_result"
    }
   ],
   "source": [
    "from opentree import OT\n",
    "import dendropy as dp\n",
    "import re, os, copy, shutil\n",
    "from ipywidgets import interactive, FloatSlider\n",
    "from IPython.display import display, Javascript\n",
    "import ipywidgets as widgets\n",
    "import functools\n",
    "from ipywidgets import VBox, HBox\n",
    "import pandas as pd\n",
    "wdir=0\n",
    "inputfile=0\n",
    "outputfile=0\n",
    "os.getcwd()"
   ]
  },
  {
   "cell_type": "code",
   "execution_count": 41,
   "id": "8eaf62a7",
   "metadata": {},
   "outputs": [],
   "source": [
    "#modified from https://www.geeksforgeeks.org/remove-invalid-parentheses/\n",
    "# Python3 program to remove invalid parenthesis\n",
    " \n",
    "# Method checks if character is parenthesis(open\n",
    "# or closed)\n",
    "def isParenthesis(c):\n",
    "    return ((c == '(') or (c == ')'))\n",
    " \n",
    "# method returns true if contains valid\n",
    "# parenthesis\n",
    "def isValidString(str):\n",
    "    cnt = 0\n",
    "    for i in range(len(str)):\n",
    "        if (str[i] == '('):\n",
    "            cnt += 1\n",
    "        elif (str[i] == ')'):\n",
    "            cnt -= 1\n",
    "        if (cnt < 0):\n",
    "            return False\n",
    "    return (cnt == 0)\n",
    "     \n",
    "# method to remove invalid parenthesis\n",
    "def removeInvalidParenthesis(str):\n",
    "    if (len(str) == 0):\n",
    "        return\n",
    "         \n",
    "    # visit set to ignore already visited\n",
    "    visit = set()\n",
    "     \n",
    "    # queue to maintain BFS\n",
    "    q = []\n",
    "    temp = 0\n",
    "    level = 0\n",
    "     \n",
    "    # pushing given as starting node into queu\n",
    "    q.append(str)\n",
    "    visit.add(str)\n",
    "    while(len(q)):\n",
    "        str = q[0]\n",
    "        q.pop()\n",
    "        if (isValidString(str)):\n",
    "            #print(str)\n",
    "             \n",
    "            # If answer is found, make level true\n",
    "            # so that valid of only that level\n",
    "            # are processed.\n",
    "            level = True\n",
    "        if (level):\n",
    "            continue\n",
    "        for i in range(len(str)):\n",
    "            if (not isParenthesis(str[i])):\n",
    "                continue\n",
    "                 \n",
    "            # Removing parenthesis from str and\n",
    "            # pushing into queue,if not visited already\n",
    "            temp = str[0:i] + str[i + 1:]\n",
    "            if temp not in visit:\n",
    "                q.append(temp)\n",
    "                visit.add(temp)\n",
    "    return str"
   ]
  },
  {
   "cell_type": "code",
   "execution_count": 42,
   "id": "f43443b2",
   "metadata": {},
   "outputs": [],
   "source": [
    "#speciesfile- excel\n",
    "\n",
    "def make_tree():\n",
    "    os.chdir(wdir)\n",
    "    otts=[]\n",
    "    names_df=pd.read_csv(inputfile)\n",
    "    names=names_df['Scientific name'].tolist()\n",
    "    print(names)\n",
    "    \n",
    "    for i in range(len(names)):\n",
    "        otts.append(OT.get_ottid_from_name(names[i]))\n",
    "    ret = OT.synth_induced_tree(ott_ids = otts,\n",
    "                                   label_format=\"name\")\n",
    "    treefile = \"unstripped.txt\"\n",
    "    ret.tree.write(path = treefile, schema = \"newick\")\n",
    "    ret.tree.print_plot(width=100)\n",
    "    stripped_tree = dp.Tree.get(file=open(\"unstripped.txt\"), schema=\"newick\")\n",
    "    taxon_names = [s.label for s in stripped_tree.taxon_namespace]\n",
    "    # Extract tree with labels.  This will remove all of the empty singleton \n",
    "    # entries that otl brings down. \n",
    "    final_tree = stripped_tree.extract_tree_with_taxa_labels(taxon_names)\n",
    "    file1 = open(\"cypriniformes_speciestree.txt\",\"w\")#write mode\n",
    "    file1.write(str(final_tree))\n",
    "    file1.close()\n",
    "    str_tree=str(final_tree)\n",
    "    #print('string tree:  \\n',str_tree)\n",
    "    \n",
    "    \n",
    "    for_brackets=re.split('(\\W+)',str_tree)\n",
    "    count=-1\n",
    "    for i in for_brackets:\n",
    "        count=count+1\n",
    "        if i=='':\n",
    "            for_brackets.pop(count)\n",
    "        if 'mrcaott' in i:\n",
    "            for_brackets.pop(count)\n",
    "\n",
    "    count=-1\n",
    "    for i in for_brackets:\n",
    "        count=count+1\n",
    "        #print(i[0].isupper())\n",
    "        if i[0].isupper()==False and '_' in i:\n",
    "            for_brackets.pop(count)\n",
    "    #print(for_brackets)\n",
    "            \n",
    "    count=-1\n",
    "    for i in names:\n",
    "        count=count+1\n",
    "        j=i.replace(' ','_')\n",
    "        names[count]=j\n",
    "    #print('new names:{} \\n'.format(len(names)),names)\n",
    "    \n",
    "    count=-1\n",
    "    good_tree=[]\n",
    "    for i in for_brackets:\n",
    "        count=count+1\n",
    "        if '_' in i:\n",
    "            for j in names:\n",
    "                if i[0:10] in j:\n",
    "                    good_tree.append(j)\n",
    "                    #print('appending {}'.format(j))\n",
    "                    \n",
    "                    \n",
    "        else:\n",
    "            if 'Pan' in i:\n",
    "                good_tree.append('Pan_Troglo')\n",
    "            if '(' not in i and ')' not in i and ',' not in i:\n",
    "                print ('deleting {}'.format(i))\n",
    "            else: \n",
    "                good_tree.append(i)\n",
    "                #print('appending {}'.format(i))\n",
    "    good_tree=''.join(good_tree)\n",
    "    good_tree=good_tree.replace(',)','')\n",
    "    good_tree=good_tree.replace('()','')\n",
    "    good_tree=removeInvalidParenthesis(good_tree)\n",
    "    print(good_tree)\n",
    "    with open(outputfile,'w') as text_file:\n",
    "        text_file.write(good_tree)\n",
    "    return good_tree\n",
    "    \n",
    "    "
   ]
  },
  {
   "cell_type": "code",
   "execution_count": 43,
   "id": "15fda00d",
   "metadata": {},
   "outputs": [
    {
     "data": {
      "application/vnd.jupyter.widget-view+json": {
       "model_id": "a3c0cc6a1ae44f8896542faaa6aab5ac",
       "version_major": 2,
       "version_minor": 0
      },
      "text/plain": [
       "HBox(children=(Text(value='/Users/ivan/Documents/Raleigh_lab/dnds', description='directory with species file')…"
      ]
     },
     "metadata": {},
     "output_type": "display_data"
    },
    {
     "data": {
      "application/javascript": [
       "IPython.notebook.execute_cells([IPython.notebook.get_selected_index()+1])"
      ],
      "text/plain": [
       "<IPython.core.display.Javascript object>"
      ]
     },
     "metadata": {},
     "output_type": "display_data"
    }
   ],
   "source": [
    "def run_next(ev,button):\n",
    "    global wdir, inputfile, outputfile\n",
    "    wdir=wdir_w.value\n",
    "    inputfile=inputfile_w.value\n",
    "    outputfile=outputfile_w.value\n",
    "        \n",
    "    display(Javascript('IPython.notebook.execute_cells([IPython.notebook.get_selected_index()+1])'))\n",
    "\n",
    "wdir_w=widgets.Text(value='/Users/ivan/Documents/Raleigh_lab/dnds', description= 'directory with species file')\n",
    "inputfile_w=widgets.Text(value='IAPP_orthologs.csv', description= 'species csv file')\n",
    "outputfile_w=widgets.Text(value='species_tree_IAPP_procedural', description= 'output file name')\n",
    "\n",
    "button_js=widgets.Button(description=\"Build tree\")\n",
    "button_js.on_click(functools.partial(run_next,button=button_js))\n",
    "\n",
    "box=HBox([wdir_w,inputfile_w,outputfile_w,button_js])\n",
    "#print'''Please input the path to the directory containing the allignment\n",
    "#Note that it must be as /Users/name/directory rather than ~/directory\n",
    "                          \n",
    "#Output file can have any name, python will creatte it for you\n",
    "\n",
    "#Currently only takes .phy files, 10 char trimmed (not padded)\n",
    "\n",
    "#Press 'Convert file' and the output .txt will appear in your specified directory '''\n",
    "display(box)"
   ]
  },
  {
   "cell_type": "code",
   "execution_count": 44,
   "id": "2b1b1022",
   "metadata": {},
   "outputs": [
    {
     "name": "stdout",
     "output_type": "stream",
     "text": [
      "['Bos taurus', 'Canis lupus familiaris', 'Equus caballus', 'Felis catus', 'Homo sapiens', 'Loxodonta africana', 'Macaca mulatta', 'Microcebus murinus', 'Monodelphis domestica', 'Mus musculus', 'Oryctolagus cuniculus', 'Ovis aries', 'Pan troglodytes', 'Phascolarctos cinereus', 'Pteropus alecto', 'Pteropus vampyrus', 'Rattus norvegicus', 'Rattus rattus', 'Sarcophilus harrisii', 'Sus scrofa']\n",
      "                                         /------------+-+-+-+-+-+-+-+-+-+-+-- Mus musculus          \n",
      "            /-+-+-+-+-+-+--+-+-+-+-+-+-+-+                                                          \n",
      "            |                            |                /-+-+-+-+-+-+-+-+-- Rattus rattus         \n",
      "      /-+-+-+                            \\-+-+-+-+--+-+-+-+                                         \n",
      "      |     |                                             \\-------------+-+-- Rattus norvegicus     \n",
      "      |     |                                                                                       \n",
      "      |     \\---------------------------------------------------------+-+-+-- Oryctolagus cuniculus \n",
      "    /-+                                                                                             \n",
      "    | |                              /----------------+-+-+-+-+-+-+-+-+-+-+-- Macaca mulatta        \n",
      "    | |                    /-+-+-+-+-+                                                              \n",
      "    | |                    |         |                  /-+-+-+-+-+-+-+-+-+-- Homo sapiens          \n",
      "    | \\---------------+-+--+         \\-+-+-+-+-+-+--+-+-+                                           \n",
      "    |                      |                            \\-------------------- Pan                   \n",
      "    |                      |                                                                        \n",
      "    |                      \\------------------------+-+-+-+-+-+-+-+-+-+-+-+-- Microcebus murinus    \n",
      "    |                                                                                               \n",
      "  /-+                                                   /-+-+-+-+-+-+-+-+-+-- Ovis aries            \n",
      "  | |                                      /-+-+-+--+-+-+                                           \n",
      "  | |                                  /-+-+            \\-------+-+-+-+-+-+-- Bos taurus            \n",
      "  | |                                  |   |                                                        \n",
      "  | |                          /-+-+-+-+   \\--------------------------+-+-+-- Sus scrofa            \n",
      "  | |                          |       |                                                            \n",
      "  | |                        /-+       \\----------------------------+-+-+-+-- Equus caballus        \n",
      "  | |                        | |                                                                    \n",
      "/-+ |                        | |                            /-+-+-+-+-+-+-+-- Pteropus alecto       \n",
      "| | \\----------------------+-+ \\-+-+-+-+-+-+-+-+-+--+-+-+-+-+                                       \n",
      "| |                          |                              \\-------+-+-+-+-- Pteropus vampyrus     \n",
      "| |                          |                                                                      \n",
      "| |                          |       /-+-+-+-+-+-+--+-+-+-+-+-+-+-+-+-+-+-+-- Canis lupus familiaris\n",
      "| |                          \\---+-+-+                                                              \n",
      "+ |                                  \\---------+-+--+-+-+-+-+-+-+-+-+-+-+-+-- Felis catus           \n",
      "| |                                                                                                 \n",
      "| \\-----------------------------------------------------------+-+-+-+-+-+-+-- Loxodonta africana    \n",
      "|                                                                                                   \n",
      "|                                                /------------------+-+-+-+-- Phascolarctos cinereus\n",
      "|                                            /-+-+                                                  \n",
      "\\------------------------------------------+-+   \\--+-+-+-+-+-+-+-+-+-+-+-+-- Sarcophilus harrisii  \n",
      "                                             |                                                      \n",
      "                                             \\------------------+-+-+-+-+-+-- Monodelphis domestica \n",
      "                                                                                                    \n",
      "                                                                                                    \n",
      "deleting Pan\n",
      "deleting Euarchontoglires\n",
      "deleting Bovidae\n",
      "deleting Boreoeutheria\n",
      "((((((Mus_musculus,(Rattus_rattus,Rattus_norvegicus)),Oryctolagus_cuniculus),((Macaca_mulatta,(Homo_sapiens,Pan_Troglo)),Microcebus_murinus)),(((((Ovis_aries,Bos_taurus),Sus_scrofa),Equus_caballus),(Pteropus_alecto,Pteropus_vampyrus)),(Canis_lupus_familiaris,Felis_catus))),Loxodonta_africana),((Phascolarctos_cinereus,Sarcophilus_harrisii),Monodelphis_domestica))\n"
     ]
    },
    {
     "data": {
      "text/plain": [
       "'((((((Mus_musculus,(Rattus_rattus,Rattus_norvegicus)),Oryctolagus_cuniculus),((Macaca_mulatta,(Homo_sapiens,Pan_Troglo)),Microcebus_murinus)),(((((Ovis_aries,Bos_taurus),Sus_scrofa),Equus_caballus),(Pteropus_alecto,Pteropus_vampyrus)),(Canis_lupus_familiaris,Felis_catus))),Loxodonta_africana),((Phascolarctos_cinereus,Sarcophilus_harrisii),Monodelphis_domestica))'"
      ]
     },
     "execution_count": 44,
     "metadata": {},
     "output_type": "execute_result"
    }
   ],
   "source": [
    "make_tree()"
   ]
  }
 ],
 "metadata": {
  "kernelspec": {
   "display_name": "Python 3",
   "language": "python",
   "name": "python3"
  },
  "language_info": {
   "codemirror_mode": {
    "name": "ipython",
    "version": 3
   },
   "file_extension": ".py",
   "mimetype": "text/x-python",
   "name": "python",
   "nbconvert_exporter": "python",
   "pygments_lexer": "ipython3",
   "version": "3.8.10"
  }
 },
 "nbformat": 4,
 "nbformat_minor": 5
}
