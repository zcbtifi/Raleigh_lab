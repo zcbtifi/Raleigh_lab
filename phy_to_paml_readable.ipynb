{
 "cells": [
  {
   "cell_type": "code",
   "execution_count": null,
   "id": "7245f309",
   "metadata": {},
   "outputs": [],
   "source": [
    "import os\n",
    "from ipywidgets import interactive, FloatSlider\n",
    "from IPython.display import display, Javascript\n",
    "import ipywidgets as widgets\n",
    "import functools\n",
    "from ipywidgets import VBox, HBox\n",
    "wdir=0\n",
    "inputfile=0\n",
    "outputfile=0\n",
    "os.getcwd()"
   ]
  },
  {
   "cell_type": "code",
   "execution_count": null,
   "id": "5152a5db",
   "metadata": {},
   "outputs": [],
   "source": [
    "def run_next(ev,button):\n",
    "    global wdir, inputfile, outputfile\n",
    "    wdir=wdir_w.value\n",
    "    inputfile=inputfile_w.value\n",
    "    outputfile=outputfile_w.value\n",
    "        \n",
    "    display(Javascript('IPython.notebook.execute_cells([IPython.notebook.get_selected_index()+1])'))\n",
    "\n",
    "wdir_w=widgets.Text(value='/Users/user/Documents/somedir', description= 'directory with allignment file')\n",
    "inputfile_w=widgets.Text(value='somefile.phy', description= 'input file name')\n",
    "outputfile_w=widgets.Text(value='somefile, description= 'output file name')\n",
    "\n",
    "button_js=widgets.Button(description=\"Convert file\")\n",
    "#assign run_next to clicking the button\n",
    "button_js.on_click(functools.partial(run_next,button=button_js))\n",
    "\n",
    "box=HBox([wdir_w,inputfile_w,outputfile_w,button_js])\n",
    "print'''Please input the path to the directory containing the allignment\n",
    "Note that it must be as /Users/name/directory rather than ~/directory\n",
    "Output file can have any name, python will creatte it for you\n",
    "\n",
    "Currently only takes .phy files, 10 char trimmed (not padded)\n",
    "\n",
    "Press 'Convert file' and the output .txt will appear in your specified directory '''\n",
    "display(box)"
   ]
  },
  {
   "cell_type": "code",
   "execution_count": null,
   "id": "fd7879c8",
   "metadata": {},
   "outputs": [],
   "source": [
    "os.chdir(wdir)\n",
    "print(os.getcwd())\n",
    "f= open(inputfile,'r')\n",
    "f_str=f.readlines()\n",
    "f_str\n",
    "count=-1\n",
    "for i in f_str:\n",
    "    count=count+1\n",
    "    if i[-2].isdigit()==True and i[-1]=='\\n':\n",
    "        print('n')\n",
    "        n=[i[0:-1],'  \\n\\n']\n",
    "        print(n)\n",
    "        j=''.join(n)\n",
    "        print(j)\n",
    "        f_str[count]=j\n",
    "    else:\n",
    "        n=str(i[0:10])\n",
    "        m=[n,'  \\n']\n",
    "        k=''.join(m)\n",
    "        j=(i[10:])\n",
    "        l=[j,'\\n']\n",
    "        h=''.join(l)\n",
    "        f_str[count]=[k,h]\n",
    "f_str=[i for sublist in f_str for i in sublist]\n",
    "towrite=''.join(f_str)\n",
    "towrite=towrite[:-1]\n",
    "with open(outputfile,'w') as text_file:\n",
    "    text_file.write(towrite)"
   ]
  }
 ],
 "metadata": {
  "kernelspec": {
   "display_name": "Python 3",
   "language": "python",
   "name": "python3"
  },
  "language_info": {
   "codemirror_mode": {
    "name": "ipython",
    "version": 3
   },
   "file_extension": ".py",
   "mimetype": "text/x-python",
   "name": "python",
   "nbconvert_exporter": "python",
   "pygments_lexer": "ipython3",
   "version": "3.8.10"
  }
 },
 "nbformat": 4,
 "nbformat_minor": 5
}
