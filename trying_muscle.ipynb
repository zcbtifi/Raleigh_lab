{
 "cells": [
  {
   "cell_type": "code",
   "execution_count": 3,
   "metadata": {},
   "outputs": [
    {
     "name": "stdout",
     "output_type": "stream",
     "text": [
      "--2021-09-27 12:39:53--  https://www.drive5.com/muscle/downloads3.8.31/muscle3.8.31_i86linux64.tar.gz\n",
      "Resolving www.drive5.com (www.drive5.com)... 199.195.116.69\n",
      "Connecting to www.drive5.com (www.drive5.com)|199.195.116.69|:443... connected.\n",
      "HTTP request sent, awaiting response... 200 OK\n",
      "Length: 487906 (476K) [application/x-gzip]\n",
      "Saving to: ‘muscle3.8.31_i86linux64.tar.gz’\n",
      "\n",
      "muscle3.8.31_i86lin 100%[===================>] 476.47K  80.0KB/s    in 6.0s    \n",
      "\n",
      "2021-09-27 12:40:01 (80.0 KB/s) - ‘muscle3.8.31_i86linux64.tar.gz’ saved [487906/487906]\n",
      "\n"
     ]
    }
   ],
   "source": [
    "!wget https://www.drive5.com/muscle/downloads3.8.31/muscle3.8.31_i86linux64.tar.gz\n"
   ]
  },
  {
   "cell_type": "code",
   "execution_count": 6,
   "metadata": {},
   "outputs": [],
   "source": [
    "!tar -xf muscle3.8.31_i86linux64.tar.gz"
   ]
  },
  {
   "cell_type": "code",
   "execution_count": 10,
   "metadata": {},
   "outputs": [],
   "source": [
    "!mv muscle3.8.31_i86linux64 muscle\n",
    "!chmod +x muscle"
   ]
  },
  {
   "cell_type": "code",
   "execution_count": 10,
   "metadata": {},
   "outputs": [
    {
     "name": "stdout",
     "output_type": "stream",
     "text": [
      "8ae40aae18cd912494095d7e0e2f9307fa654054  muscle\r\n",
      "Anaconda3-2020.11-Linux-x86_64.sh\t  muscle3.8.31_i86linux64.tar.gz\r\n",
      "anaconda3\t\t\t\t  trying_muscle.ipynb\r\n",
      "mamm_IAPP.fasta\r\n"
     ]
    }
   ],
   "source": [
    "!wget -O mamm_IAPP https://raw.githubusercontent.com/zcbtifi/Raleigh_lab/8ae40aae18cd912494095d7e0e2f9307fa654054/mamm_IAPP.fasta"
   ]
  },
  {
   "cell_type": "code",
   "execution_count": 4,
   "metadata": {},
   "outputs": [
    {
     "name": "stdout",
     "output_type": "stream",
     "text": [
      "\n",
      "MUSCLE v3.8.1551 by Robert C. Edgar\n",
      "\n",
      "http://www.drive5.com/muscle\n",
      "This software is donated to the public domain.\n",
      "Please cite: Edgar, R.C. Nucleic Acids Res 32(5), 1792-97.\n",
      "\n",
      "mamm_IAPP 19 seqs, lengths min 261, max 513, avg 304\n",
      "00:00:00     15 MB(1%)  Iter   1  100.00%  K-mer dist pass 1\n",
      "00:00:00     15 MB(1%)  Iter   1  100.00%  K-mer dist pass 2\n",
      "00:00:00     21 MB(1%)  Iter   1  100.00%  Align node       \n",
      "00:00:00     21 MB(1%)  Iter   1  100.00%  Root alignment\n",
      "00:00:00     21 MB(1%)  Iter   2  100.00%  Refine tree   \n",
      "00:00:00     21 MB(1%)  Iter   2  100.00%  Root alignment\n",
      "00:00:00     21 MB(1%)  Iter   2  100.00%  Root alignment\n",
      "00:00:00     21 MB(1%)  Iter   3  100.00%  Refine biparts\n",
      "00:00:00     21 MB(1%)  Iter   4  100.00%  Refine biparts\n"
     ]
    }
   ],
   "source": [
    "!muscle -in mamm_IAPP.fasta -out mamm_IAPP_allign.fasta"
   ]
  }
 ],
 "metadata": {
  "kernelspec": {
   "display_name": "Python 3",
   "language": "python",
   "name": "python3"
  },
  "language_info": {
   "codemirror_mode": {
    "name": "ipython",
    "version": 3
   },
   "file_extension": ".py",
   "mimetype": "text/x-python",
   "name": "python",
   "nbconvert_exporter": "python",
   "pygments_lexer": "ipython3",
   "version": "3.8.5"
  }
 },
 "nbformat": 4,
 "nbformat_minor": 4
}
